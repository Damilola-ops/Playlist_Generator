{
  "nbformat": 4,
  "nbformat_minor": 0,
  "metadata": {
    "colab": {
      "provenance": [],
      "authorship_tag": "ABX9TyPNaEYbsEY48W/rNH5+/G+K",
      "include_colab_link": true
    },
    "kernelspec": {
      "name": "python3",
      "display_name": "Python 3"
    },
    "language_info": {
      "name": "python"
    }
  },
  "cells": [
    {
      "cell_type": "markdown",
      "metadata": {
        "id": "view-in-github",
        "colab_type": "text"
      },
      "source": [
        "<a href=\"https://colab.research.google.com/github/damilojohn/Playlist_Generator/blob/main/gradio.ipynb\" target=\"_parent\"><img src=\"https://colab.research.google.com/assets/colab-badge.svg\" alt=\"Open In Colab\"/></a>"
      ]
    },
    {
      "cell_type": "code",
      "execution_count": null,
      "metadata": {
        "id": "Fb-O_xg-mKuV"
      },
      "outputs": [],
      "source": [
        "!pip install gradio \n",
        "!pip install sentence-transformers "
      ]
    },
    {
      "cell_type": "code",
      "source": [],
      "metadata": {
        "id": "GLMgtLjmyufm"
      },
      "execution_count": null,
      "outputs": []
    },
    {
      "cell_type": "code",
      "source": [
        "import transformers \n",
        "import gradio as gr \n",
        "from sentence_transformers import SentenceTransformer,util\n",
        "import pickle \n",
        "import pandas as pd "
      ],
      "metadata": {
        "id": "V7aqLfFWmYjP"
      },
      "execution_count": null,
      "outputs": []
    },
    {
      "cell_type": "code",
      "source": [
        "songs_df = \n",
        "verses_df = \n",
        "song_embeddings = pickle.load()"
      ],
      "metadata": {
        "id": "NUnQCy87mZbv"
      },
      "execution_count": null,
      "outputs": []
    },
    {
      "cell_type": "code",
      "source": [
        "embedder = SentenceTransformer('')"
      ],
      "metadata": {
        "id": "ns02aKuOnesX"
      },
      "execution_count": null,
      "outputs": []
    },
    {
      "cell_type": "code",
      "source": [
        "def generate_playlist(prompt):\n",
        "  prompt_embed = embedder.encode(prompt)\n",
        "  hits = util.semantic_search(prompt_embed,song_embeddings,top_k=20)\n",
        "  hits = pd.DataFrame.from_dict(hits[0])\n",
        "  verses_match = verses_df.iloc[hits['corpus_id']]\n",
        "  verses_match = verses_match.drop_duplicates(subset='song_id')\n",
        "  songs_match = songs_df[songs_df['song_id'].isin(verses_match['song_id'].values)\n",
        "  songs_match.song_id = pd.Categorical(songs_match.song_id,categories=verses_match['song_id'].values)\n",
        "  songs_match = songs_match.sort_values('song_id')\n",
        "  songs_match = songs_match.loc[0:9] \n",
        "  songs_name = list(songs_match['full-title'])\n",
        "  return gr.Radio.update(label='songs',interactive=True,choices=song_name) \n",
        "                                "
      ],
      "metadata": {
        "id": "KgrJKoCnohun"
      },
      "execution_count": null,
      "outputs": []
    },
    {
      "cell_type": "code",
      "source": [
        "def set_example_prompt(examples):\n",
        "  return gr.TextArea.update(value=examples[0])"
      ],
      "metadata": {
        "id": "nJ1Qk9QKtbyp"
      },
      "execution_count": null,
      "outputs": []
    },
    {
      "cell_type": "code",
      "source": [
        "demo = gr.Blocks()\n",
        "with demo:\n",
        "  gr.Markdown(\n",
        "      ''' \n",
        "      # A playlist Generator for Afrobeats\n",
        "      '''\n",
        "  )\n",
        "  with gr.Row():\n",
        "    with gr.Column():\n",
        "      gr.Markdown(\n",
        "          '''\n",
        "          Enter a Prompt to generate a playlist based on that prompt \n",
        "          '''\n",
        "      )\n",
        "      song_prompt = gr.TextArea(\n",
        "          value='I need igbo and shayo',\n",
        "          placeholder = \"Enter a sentence that describes how you're feeling or what you want your playlist to be about\"\n",
        "      )\n",
        "      example_prompts = gr.Dataset(\n",
        "          components=[song_prompt]\n",
        "          samples= [\n",
        "              ['Lazy day'],\n",
        "              ['I need money'],\n",
        "              ['nobody gets me ']\n",
        "          ]\n",
        "      )\n",
        "    with gr.Column():\n",
        "      fetch_songs = gr.Button(value='generate your playlist',).style(full_width=True)\n",
        "      with gr.Row():\n",
        "        song_options = gr.Radio(label='songs',interactive=True,choices=None,type='value')\n",
        "    with gr.Column():\n",
        "      lyrics = gr.Textbox((label='lyrics',placeholder=\"select a song to see it's lyrics\"))\n",
        "    fetch_songs.click(\n",
        "        fn=generate_playlist,\n",
        "        inputs=[song_prompt],\n",
        "        outputs=[song_option]\n",
        "    )\n",
        "    example_prompts.click(\n",
        "        fn=set_example_prompts,\n",
        "        inputs = [example_prompts],\n",
        "        output = example_prompts.components\n",
        "    )\n",
        "  \n",
        "\n",
        "  demo.launch(debug=True)"
      ],
      "metadata": {
        "id": "dI1rXQ2ItbwW"
      },
      "execution_count": null,
      "outputs": []
    }
  ]
}