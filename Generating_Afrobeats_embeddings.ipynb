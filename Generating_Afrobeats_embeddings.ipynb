{
  "cells": [
    {
      "cell_type": "markdown",
      "metadata": {
        "id": "view-in-github",
        "colab_type": "text"
      },
      "source": [
        "<a href=\"https://colab.research.google.com/github/damilojohn/Playlist_Generator/blob/main/Generating_Afrobeats_embeddings.ipynb\" target=\"_parent\"><img src=\"https://colab.research.google.com/assets/colab-badge.svg\" alt=\"Open In Colab\"/></a>"
      ]
    },
    {
      "cell_type": "code",
      "execution_count": null,
      "metadata": {
        "id": "ZhJp6fVsV1kM"
      },
      "outputs": [],
      "source": [
        "#installing necessary libraries\n",
        "!pip install sentence-transformers\n",
        "!pip install datasets \n",
        "!pip install wandb"
      ]
    },
    {
      "cell_type": "code",
      "execution_count": null,
      "metadata": {
        "id": "vLAVvSsTWtDf"
      },
      "outputs": [],
      "source": [
        "#text file containing lyrics\n",
        "!wget https://raw.githubusercontent.com/damilojohn/Playlist_Generator/main/model_embedding.txt\n",
        "#songs csv \n",
        "!wget https://raw.githubusercontent.com/damilojohn/Playlist_Generator/main/Pandas%20transformation/spotify_transformed.csv"
      ]
    },
    {
      "cell_type": "code",
      "execution_count": null,
      "metadata": {
        "id": "aO_mSQEoYmxm"
      },
      "outputs": [],
      "source": [
        "#setting up wandb\n",
        "!wandb login\n",
        "import wandb"
      ]
    },
    {
      "cell_type": "code",
      "execution_count": null,
      "metadata": {
        "id": "NedPf6cgZOSV"
      },
      "outputs": [],
      "source": [
        "config = {\n",
        "    'Name' : 'Embeddings for afrobeats lyrics',\n",
        "    'Dataset' : 'spotify api lyrics',\n",
        "    'Model' : 'msmarco-miniLM-pretrained',\n",
        "    'notes':'No text cleaning was performed yet.creating a baseline performance'\n",
        "}\n",
        "wandb.init(project='Playlist Generator',entity='damilojohn',config=config)"
      ]
    },
    {
      "cell_type": "code",
      "execution_count": 3,
      "metadata": {
        "id": "fMK3xo4-Wl81"
      },
      "outputs": [],
      "source": [
        "from sentence_transformers import SentenceTransformer,util\n",
        "from tqdm.auto import tqdm\n",
        "import pandas as pd \n",
        "import transformers\n",
        "import pickle \n",
        "from huggingface_hub import hf_hub_download\n",
        "from datasets import load_dataset\n",
        "import re"
      ]
    },
    {
      "cell_type": "code",
      "execution_count": null,
      "metadata": {
        "id": "SmUcQi8uYrWN"
      },
      "outputs": [],
      "source": [
        "#loading song lyrics into a dataset object \n",
        "data_path = '/content/model_embedding.txt'\n",
        "songs = load_dataset('text',\n",
        "                     data_files={'train':[data_path]})"
      ]
    },
    {
      "cell_type": "code",
      "source": [
        "symmetric_embedder = SentenceTransformer('sentence-transformers/all-MiniLM-L6-v2')\n",
        "asymmetric_embedder = SentenceTransformer('msmarco-distilbert-base-v4')"
      ],
      "metadata": {
        "id": "IDYtd9Zq8IK5"
      },
      "execution_count": null,
      "outputs": []
    },
    {
      "cell_type": "code",
      "source": [
        "songs= pd.read_csv('/content/spotify_transformed.csv')"
      ],
      "metadata": {
        "id": "ty8_4KCm5VGL"
      },
      "execution_count": 6,
      "outputs": []
    },
    {
      "cell_type": "code",
      "source": [
        "songs.drop('Unnamed: 0',axis=1,inplace=True)\n",
        "songs.head(5)"
      ],
      "metadata": {
        "id": "4GnuPPr4TjlP"
      },
      "execution_count": null,
      "outputs": []
    },
    {
      "cell_type": "code",
      "execution_count": 19,
      "metadata": {
        "id": "MiApHWLXct4B"
      },
      "outputs": [],
      "source": [
        "verses = open('/content/model_embedding.txt','r')\n",
        "lyrics = verses.read()\n",
        "verses.close()"
      ]
    },
    {
      "cell_type": "code",
      "source": [
        "lyrics = lyrics.split('\\\\n')"
      ],
      "metadata": {
        "id": "X_1HmSFglD_6"
      },
      "execution_count": 21,
      "outputs": []
    },
    {
      "cell_type": "code",
      "source": [
        "#removing empty characters our list \n",
        "test2 = [i for i in lyrics if i]\n",
        "#removing square brackets and other jargons \n",
        "for i,lyrics in enumerate(test2) :\n",
        "  if not lyrics[0].isalpha():\n",
        "    del test2[i]\n",
        "test2"
      ],
      "metadata": {
        "id": "dHgCuydDJcur"
      },
      "execution_count": null,
      "outputs": []
    },
    {
      "cell_type": "code",
      "source": [
        "#splitting by verses, just kidding , just kidding \n",
        "' '.join(lyrics).split('[')[5]"
      ],
      "metadata": {
        "colab": {
          "base_uri": "https://localhost:8080/",
          "height": 87
        },
        "id": "sxpjWLekL7iK",
        "outputId": "52286e03-f444-4885-acd7-8d22093172c6"
      },
      "execution_count": 37,
      "outputs": [
        {
          "output_type": "execute_result",
          "data": {
            "text/plain": [
              "\"Verse 2: Wizkid] Say na me dey mess up your mind And na me dey make you free up your mind Say your body talk to me nice Say na my love, you dey need for your life Yeah our love no be lie See yeah we dey together yeah day and night Yeah if I leave you go kpai Yeah if you leave I go kpai (Oh, oh woah) I'm stroking your body, baby, loving your body, baby As you're whinin' your body, baby, so crazy Lovin' your body, baby, gyal iwo ni temi I just wanna let you know, oh, woah, hope every day that I dey by you  You might also like \""
            ],
            "application/vnd.google.colaboratory.intrinsic+json": {
              "type": "string"
            }
          },
          "metadata": {},
          "execution_count": 37
        }
      ]
    },
    {
      "cell_type": "code",
      "source": [
        "import copy \n",
        "lyrics_cleaned = copy.deepcopy(test2)"
      ],
      "metadata": {
        "id": "2avn4eonMppG"
      },
      "execution_count": 41,
      "outputs": []
    },
    {
      "cell_type": "code",
      "source": [
        "lyrics_cleaned"
      ],
      "metadata": {
        "id": "bzz87IubJx8L"
      },
      "execution_count": null,
      "outputs": []
    },
    {
      "cell_type": "code",
      "source": [
        "#trying out regex later \n",
        "pattern = re.compile('\\[')\n"
      ],
      "metadata": {
        "id": "_TkJ1lut05IW"
      },
      "execution_count": null,
      "outputs": []
    },
    {
      "cell_type": "code",
      "source": [
        "embeddings = asymmetric_embedder.encode(lyrics_cleaned,)\n",
        "assert len(lyrics_cleaned) == len(embeddings) , 'wahala dey'"
      ],
      "metadata": {
        "id": "p4N1PmRWyt2a"
      },
      "execution_count": 49,
      "outputs": []
    },
    {
      "cell_type": "code",
      "source": [
        "#trying out semantic search \n",
        "query = ['I just want to cruise and jolly']\n",
        "query_embedding = asymmetric_embedder.encode(query)\n",
        "hits = util.semantic_search(query_embedding,embeddings,top_k = 6)\n",
        "hits"
      ],
      "metadata": {
        "colab": {
          "base_uri": "https://localhost:8080/"
        },
        "id": "Qy83w9veSl6t",
        "outputId": "10aeb4bd-c870-4dbb-e6d4-61921293a1ed"
      },
      "execution_count": 55,
      "outputs": [
        {
          "output_type": "execute_result",
          "data": {
            "text/plain": [
              "[[{'corpus_id': 3291, 'score': 0.39620208740234375},\n",
              "  {'corpus_id': 3550, 'score': 0.3827310800552368},\n",
              "  {'corpus_id': 3345, 'score': 0.3679012656211853},\n",
              "  {'corpus_id': 2796, 'score': 0.3589097559452057},\n",
              "  {'corpus_id': 1711, 'score': 0.3511357605457306},\n",
              "  {'corpus_id': 1734, 'score': 0.3511357605457306}]]"
            ]
          },
          "metadata": {},
          "execution_count": 55
        }
      ]
    },
    {
      "cell_type": "code",
      "source": [
        "lyrics_cleaned[3291]"
      ],
      "metadata": {
        "colab": {
          "base_uri": "https://localhost:8080/",
          "height": 35
        },
        "id": "I_va-6OCTWlW",
        "outputId": "11556957-e6f4-48f8-9089-ac172feced1d"
      },
      "execution_count": 56,
      "outputs": [
        {
          "output_type": "execute_result",
          "data": {
            "text/plain": [
              "'I dey catch cruise, Eko Miami'"
            ],
            "application/vnd.google.colaboratory.intrinsic+json": {
              "type": "string"
            }
          },
          "metadata": {},
          "execution_count": 56
        }
      ]
    },
    {
      "cell_type": "code",
      "source": [],
      "metadata": {
        "id": "ldUqVVzsVW40"
      },
      "execution_count": null,
      "outputs": []
    }
  ],
  "metadata": {
    "colab": {
      "provenance": [],
      "authorship_tag": "ABX9TyNtGFVTGzbJjyoDBH5lKiIj",
      "include_colab_link": true
    },
    "kernelspec": {
      "display_name": "Python 3",
      "name": "python3"
    },
    "language_info": {
      "name": "python"
    }
  },
  "nbformat": 4,
  "nbformat_minor": 0
}